{
 "cells": [
  {
   "cell_type": "markdown",
   "id": "12c12e72",
   "metadata": {},
   "source": [
    "# SOEN 6611 (SOFTWARE MEASUREMENT: THEORY AND PRACTICE) \n",
    "# STEP 5\n",
    "# Submitted By : \n",
    "# Geetika Rathi (40206213)\n",
    "# Harman Preet Kaur (40198317)\n",
    "# Shubhang Khattar (40163063)"
   ]
  },
  {
   "cell_type": "code",
   "execution_count": 1,
   "id": "2b66a106",
   "metadata": {},
   "outputs": [],
   "source": [
    "#Importing libraries\n",
    "import numpy as np \n",
    "import pandas as pd \n",
    "import matplotlib.pyplot as plt"
   ]
  },
  {
   "cell_type": "code",
   "execution_count": 2,
   "id": "c5f2ac91",
   "metadata": {},
   "outputs": [],
   "source": [
    "#Reading CSV to PD Dataframe\n",
    "df = pd.read_csv('/Users/shubhangkhattar/Desktop/SOEN 6611/SOEN Project/Dataset_Superhero-TV-Shows.csv')"
   ]
  },
  {
   "cell_type": "code",
   "execution_count": 3,
   "id": "44c3d249",
   "metadata": {
    "scrolled": true
   },
   "outputs": [
    {
     "data": {
      "text/html": [
       "<div>\n",
       "<style scoped>\n",
       "    .dataframe tbody tr th:only-of-type {\n",
       "        vertical-align: middle;\n",
       "    }\n",
       "\n",
       "    .dataframe tbody tr th {\n",
       "        vertical-align: top;\n",
       "    }\n",
       "\n",
       "    .dataframe thead th {\n",
       "        text-align: right;\n",
       "    }\n",
       "</style>\n",
       "<table border=\"1\" class=\"dataframe\">\n",
       "  <thead>\n",
       "    <tr style=\"text-align: right;\">\n",
       "      <th></th>\n",
       "      <th>show_title</th>\n",
       "      <th>imdb_rating</th>\n",
       "      <th>release_year</th>\n",
       "      <th>runtime</th>\n",
       "      <th>genre</th>\n",
       "      <th>parental_guideline</th>\n",
       "      <th>imdb_votes</th>\n",
       "      <th>synopsis</th>\n",
       "    </tr>\n",
       "  </thead>\n",
       "  <tbody>\n",
       "    <tr>\n",
       "      <th>0</th>\n",
       "      <td>Peacemaker</td>\n",
       "      <td>8.5</td>\n",
       "      <td>2022-</td>\n",
       "      <td>40</td>\n",
       "      <td>Action, Adventure, Comedy</td>\n",
       "      <td>TV-MA</td>\n",
       "      <td>60,116</td>\n",
       "      <td>Picking up where The Suicide Squad (2021) left...</td>\n",
       "    </tr>\n",
       "    <tr>\n",
       "      <th>1</th>\n",
       "      <td>The Legend of Vox Machina</td>\n",
       "      <td>8.6</td>\n",
       "      <td>2022-</td>\n",
       "      <td>30</td>\n",
       "      <td>Animation, Action, Adventure</td>\n",
       "      <td>TV-MA</td>\n",
       "      <td>13,128</td>\n",
       "      <td>In a desperate attempt to pay off a mounting b...</td>\n",
       "    </tr>\n",
       "    <tr>\n",
       "      <th>2</th>\n",
       "      <td>Daredevil</td>\n",
       "      <td>8.6</td>\n",
       "      <td>2015-2018</td>\n",
       "      <td>54</td>\n",
       "      <td>Action, Crime, Drama</td>\n",
       "      <td>TV-MA</td>\n",
       "      <td>4,10,433</td>\n",
       "      <td>A blind lawyer by day, vigilante by night. Mat...</td>\n",
       "    </tr>\n",
       "    <tr>\n",
       "      <th>3</th>\n",
       "      <td>The Boys</td>\n",
       "      <td>8.7</td>\n",
       "      <td>2019-</td>\n",
       "      <td>60</td>\n",
       "      <td>Action, Crime, Drama</td>\n",
       "      <td>TV-MA</td>\n",
       "      <td>3,47,831</td>\n",
       "      <td>A group of vigilantes set out to take down cor...</td>\n",
       "    </tr>\n",
       "    <tr>\n",
       "      <th>4</th>\n",
       "      <td>Raising Dion</td>\n",
       "      <td>7.2</td>\n",
       "      <td>2019-</td>\n",
       "      <td>50</td>\n",
       "      <td>Drama, Sci-Fi</td>\n",
       "      <td>TV-G</td>\n",
       "      <td>13,375</td>\n",
       "      <td>A widowed single mom discovers that her son ha...</td>\n",
       "    </tr>\n",
       "  </tbody>\n",
       "</table>\n",
       "</div>"
      ],
      "text/plain": [
       "                  show_title imdb_rating release_year runtime  \\\n",
       "0                 Peacemaker         8.5       2022-       40   \n",
       "1  The Legend of Vox Machina         8.6       2022-       30   \n",
       "2                  Daredevil         8.6    2015-2018      54   \n",
       "3                   The Boys         8.7       2019-       60   \n",
       "4               Raising Dion         7.2       2019-       50   \n",
       "\n",
       "                          genre parental_guideline imdb_votes  \\\n",
       "0     Action, Adventure, Comedy              TV-MA     60,116   \n",
       "1  Animation, Action, Adventure              TV-MA     13,128   \n",
       "2          Action, Crime, Drama              TV-MA   4,10,433   \n",
       "3          Action, Crime, Drama              TV-MA   3,47,831   \n",
       "4                 Drama, Sci-Fi               TV-G     13,375   \n",
       "\n",
       "                                            synopsis  \n",
       "0  Picking up where The Suicide Squad (2021) left...  \n",
       "1  In a desperate attempt to pay off a mounting b...  \n",
       "2  A blind lawyer by day, vigilante by night. Mat...  \n",
       "3  A group of vigilantes set out to take down cor...  \n",
       "4  A widowed single mom discovers that her son ha...  "
      ]
     },
     "execution_count": 3,
     "metadata": {},
     "output_type": "execute_result"
    }
   ],
   "source": [
    "#Checking if data loaded succesfully \n",
    "df.head()"
   ]
  },
  {
   "cell_type": "markdown",
   "id": "2ae2931f",
   "metadata": {},
   "source": [
    "# Extraction Phase"
   ]
  },
  {
   "cell_type": "code",
   "execution_count": 4,
   "id": "6275106b",
   "metadata": {},
   "outputs": [
    {
     "name": "stdout",
     "output_type": "stream",
     "text": [
      "Shape of new dataframes - (200, 8) , (248, 8),(300, 8)\n"
     ]
    }
   ],
   "source": [
    "#Splitting the datasource quality analysis\n",
    "df_1 = df.iloc[:200,:]  #t1\n",
    "df_2 = df.iloc[201:449,:]  #t2\n",
    "df_3 = df.iloc[450:,:]  #t3\n",
    "\n",
    "\n",
    "# Saving the dataframe\n",
    "df_1.to_csv(\"extraction_df1.csv\")\n",
    "df_2.to_csv(\"extraction_df2.csv\")\n",
    "df_3.to_csv(\"extraction_df3.csv\")\n",
    "\n",
    "print(\"Shape of new dataframes - {} , {},{}\".format(df_1.shape, df_2.shape,df_3.shape))"
   ]
  },
  {
   "cell_type": "code",
   "execution_count": 5,
   "id": "bfe6665d",
   "metadata": {},
   "outputs": [
    {
     "name": "stdout",
     "output_type": "stream",
     "text": [
      "Lenght of big data set (lbdt) : 750\n"
     ]
    }
   ],
   "source": [
    "# Length of big data\n",
    "print (\"Lenght of big data set (lbdt) : {}\".format(len(df)))"
   ]
  },
  {
   "cell_type": "code",
   "execution_count": 6,
   "id": "bb258610",
   "metadata": {},
   "outputs": [],
   "source": [
    "# Function to calculate veracity\n",
    "def get_veracity(dataset,df_name,phase):\n",
    "    \n",
    "    # Calculating pj\n",
    "    print(\"\\n\",\"*\" * 10, \"Calculating veracity for {} in {} phase\".format(df_name,phase),\"*\"*10)\n",
    "    \n",
    "    unique_list = dict()\n",
    "\n",
    "    pj_total = 0\n",
    "\n",
    "    for i in dataset.to_numpy().flatten():\n",
    "        count = unique_list.get(i,0) + 1\n",
    "        unique_list[i] = count\n",
    "\n",
    "    for i in unique_list.values():\n",
    "        pj_total += i * np.log2(i)\n",
    "\n",
    "    \n",
    "    h_acc=np.log2(len(dataset)) - (1/(len(dataset) * pj_total))\n",
    "    h_max=np.log2(len(dataset))\n",
    "    \n",
    "    # Calculating accuracy\n",
    "    accuracy = h_acc/h_max\n",
    "    \n",
    "    print(\"Accuracy for {} in {} phase : {}\".format(df_name,phase,accuracy))\n",
    "    \n",
    "    # Calculating not null values.\n",
    "    not_null_df = len(dataset.dropna())\n",
    "    lbd_df = len(dataset)\n",
    "    \n",
    "    # Calculating completeness\n",
    "    completeness = not_null_df/lbd_df\n",
    "    \n",
    "    print(\"Completeness for {} in {} phase : {}\".format(df_name,phase,completeness))\n",
    "\n",
    "    # Assuming that the rows having release year as TBA are outliers.\n",
    "    curr_rec_df = len(dataset) - len(dataset[dataset['release_year'] == 'TBA'])\n",
    "    \n",
    "    # Calculating currentness\n",
    "    currentness = curr_rec_df / len(dataset)\n",
    "    \n",
    "    num_succesfull_request = 1\n",
    "    total_request = 1\n",
    "    \n",
    "    # Calculating availability\n",
    "    availability = num_succesfull_request / total_request\n",
    "    \n",
    "    print(\"Currentness for {} in {} phase : {}\".format(df_name,phase,currentness))\n",
    "    \n",
    "    \n",
    "    # Calculating accuracy considering availability as 0.\n",
    "    veracity = accuracy * (1/3) + completeness * (1/3) + currentness * (1/3) + availability * (0)\n",
    "    \n",
    "    \n",
    "    print(\"Veracity for {} in {} phase : {}\".format(df_name,phase,veracity))\n",
    "\n",
    "\n",
    "    return veracity"
   ]
  },
  {
   "cell_type": "code",
   "execution_count": 7,
   "id": "c4dec834",
   "metadata": {},
   "outputs": [
    {
     "name": "stdout",
     "output_type": "stream",
     "text": [
      "\n",
      " ********** Calculating veracity for time frame 1 in Extraction phase **********\n",
      "Accuracy for time frame 1 in Extraction phase : 0.9999998121994819\n",
      "Completeness for time frame 1 in Extraction phase : 0.91\n",
      "Currentness for time frame 1 in Extraction phase : 0.975\n",
      "Veracity for time frame 1 in Extraction phase : 0.9616666040664938\n",
      "\n",
      " ********** Calculating veracity for time frame 2 in Extraction phase **********\n",
      "Accuracy for time frame 2 in Extraction phase : 0.9999998850916777\n",
      "Completeness for time frame 2 in Extraction phase : 0.7459677419354839\n",
      "Currentness for time frame 2 in Extraction phase : 0.9758064516129032\n",
      "Veracity for time frame 2 in Extraction phase : 0.9072580262133549\n",
      "\n",
      " ********** Calculating veracity for time frame 3 in Extraction phase **********\n",
      "Accuracy for time frame 3 in Extraction phase : 0.9999999325875082\n",
      "Completeness for time frame 3 in Extraction phase : 0.54\n",
      "Currentness for time frame 3 in Extraction phase : 0.97\n",
      "Veracity for time frame 3 in Extraction phase : 0.8366666441958359\n"
     ]
    },
    {
     "data": {
      "image/png": "[encoded data removed]",
      "text/plain": [
       "<Figure size 432x288 with 1 Axes>"
      ]
     },
     "metadata": {
      "needs_background": "light"
     },
     "output_type": "display_data"
    }
   ],
   "source": [
    "# Calculating veracity for different data frames\n",
    "Mver_df1 = get_veracity(df_1,\"time frame 1\",\"Extraction\")\n",
    "Mver_df2 = get_veracity(df_2,\"time frame 2\",\"Extraction\")\n",
    "Mver_df3 = get_veracity(df_3,\"time frame 3\",\"Extraction\")\n",
    "\n",
    "\n",
    "# Plotting the graph for Veracity.\n",
    "dataatextraction = ['Time Frame 1','Time Frame 2','Time Frame 3']\n",
    "dataatextraction_data = [Mver_df1,Mver_df2,Mver_df3]\n",
    "\n",
    "plt.plot(dataatextraction,dataatextraction_data)\n",
    "plt.title('Veracity for Extraction Phase')\n",
    "plt.xlabel('Time Frame')\n",
    "plt.ylabel('Veracity')\n",
    "plt.show()"
   ]
  },
  {
   "cell_type": "code",
   "execution_count": 8,
   "id": "56634f28",
   "metadata": {},
   "outputs": [],
   "source": [
    "# Calculating validity for different data frames\n",
    "def get_validity(dataset,df_name,phase):\n",
    "    \n",
    "    print(\"\\n\",\"*\" * 10, \"Calculating validity for {} in {} phase\".format(df_name,phase),\"*\"*10)\n",
    "    \n",
    "    \n",
    "    # As the dataset is all about imdb ratings, the rows without imdb ratings are not consider compliant.\n",
    "    compliant_rec = len(dataset[\"imdb_rating\"].dropna())\n",
    "    lbd_df = len(dataset)\n",
    "    \n",
    "    # Calculating Compliance\n",
    "    compliance= compliant_rec/lbd_df\n",
    "    print(\"Compliance for {} in {} phase : {}\".format(df_name,phase,compliance))\n",
    "    \n",
    "    #Number of credible dataset we have is 1. \n",
    "    nds_cred = 1\n",
    "    nds = 1\n",
    "\n",
    "    \n",
    "    # Calculating Credibility\n",
    "    credibility = nds_cred/nds\n",
    "    \n",
    "    print(\"Credibility for {} in {} phase : {}\".format(df_name,phase,credibility))\n",
    "    \n",
    "    validity = compliance * (1/2) + credibility * (1/2)\n",
    "    \n",
    "    print(\"Vailidty for {} in {} phase : {}\".format(df_name,phase,validity))\n",
    "    \n",
    "    return validity\n"
   ]
  },
  {
   "cell_type": "code",
   "execution_count": 9,
   "id": "19925197",
   "metadata": {},
   "outputs": [
    {
     "name": "stdout",
     "output_type": "stream",
     "text": [
      "\n",
      " ********** Calculating validity for time frame 1 in Extraction phase **********\n",
      "Compliance for time frame 1 in Extraction phase : 0.96\n",
      "Credibility for time frame 1 in Extraction phase : 1.0\n",
      "Vailidty for time frame 1 in Extraction phase : 0.98\n",
      "\n",
      " ********** Calculating validity for time frame 2 in Extraction phase **********\n",
      "Compliance for time frame 2 in Extraction phase : 0.9838709677419355\n",
      "Credibility for time frame 2 in Extraction phase : 1.0\n",
      "Vailidty for time frame 2 in Extraction phase : 0.9919354838709677\n",
      "\n",
      " ********** Calculating validity for time frame 3 in Extraction phase **********\n",
      "Compliance for time frame 3 in Extraction phase : 0.99\n",
      "Credibility for time frame 3 in Extraction phase : 1.0\n",
      "Vailidty for time frame 3 in Extraction phase : 0.995\n"
     ]
    },
    {
     "data": {
      "image/png": "[encoded data removed]",
      "text/plain": [
       "<Figure size 432x288 with 1 Axes>"
      ]
     },
     "metadata": {
      "needs_background": "light"
     },
     "output_type": "display_data"
    }
   ],
   "source": [
    "# Calculating validity for different data frames\n",
    "\n",
    "Mval_df1 = get_validity(df_1,\"time frame 1\",\"Extraction\")\n",
    "Mval_df2 = get_validity(df_2,\"time frame 2\",\"Extraction\")\n",
    "Mval_df3 = get_validity(df_3,\"time frame 3\",\"Extraction\")\n",
    "\n",
    "\n",
    "# Plotting the graph for Validity.\n",
    "dataatextraction = ['Time Frame 1','Time Frame 2','Time Frame 3']\n",
    "dataatextraction_data = [Mval_df1,Mval_df2,Mval_df3]\n",
    "\n",
    "# Plotting graph for Validity\n",
    "plt.plot(dataatextraction,dataatextraction_data)\n",
    "plt.title('Validity for Extraction Phase')\n",
    "plt.xlabel('Time Frame')\n",
    "plt.ylabel('Validity')\n",
    "plt.show()"
   ]
  },
  {
   "cell_type": "code",
   "execution_count": 10,
   "id": "19d356ec",
   "metadata": {},
   "outputs": [],
   "source": [
    "# Fucntion to calculate vincularity for different data frames\n",
    "def get_vincularity(dataset,df_name,phase):\n",
    "    \n",
    "    print(\"\\n\",\"*\" * 10, \"Calculating traceability for {} in {} phase\".format(df_name,phase),\"*\"*10)\n",
    "    \n",
    "    # assuming records without show_title as not traceable.\n",
    "    traceability_rec = len(dataset[\"show_title\"].notna())\n",
    "    \n",
    "    # calculatig traceability/\n",
    "    traceability = traceability_rec/len(dataset)\n",
    "    \n",
    "    print(\"Traceability for {} in {} phase : {}\".format(df_name,phase,traceability))\n",
    "    \n",
    "     # Calculating vincularity\n",
    "    vincularity = traceability/1\n",
    "    \n",
    "    print(\"Vincularity for {} in {} phase : {}\".format(df_name,phase,vincularity))\n",
    "    \n",
    "    return vincularity\n",
    "    "
   ]
  },
  {
   "cell_type": "code",
   "execution_count": 11,
   "id": "020cdd62",
   "metadata": {
    "scrolled": true
   },
   "outputs": [
    {
     "name": "stdout",
     "output_type": "stream",
     "text": [
      "\n",
      " ********** Calculating traceability for time frame 1 in Extraction phase **********\n",
      "Traceability for time frame 1 in Extraction phase : 1.0\n",
      "Vincularity for time frame 1 in Extraction phase : 1.0\n",
      "\n",
      " ********** Calculating traceability for time frame 2 in Extraction phase **********\n",
      "Traceability for time frame 2 in Extraction phase : 1.0\n",
      "Vincularity for time frame 2 in Extraction phase : 1.0\n",
      "\n",
      " ********** Calculating traceability for time frame 3 in Extraction phase **********\n",
      "Traceability for time frame 3 in Extraction phase : 1.0\n",
      "Vincularity for time frame 3 in Extraction phase : 1.0\n"
     ]
    },
    {
     "data": {
      "image/png": "[encoded data removed]",
      "text/plain": [
       "<Figure size 432x288 with 1 Axes>"
      ]
     },
     "metadata": {
      "needs_background": "light"
     },
     "output_type": "display_data"
    }
   ],
   "source": [
    "# Calculating vincularity for different data frames\n",
    "\n",
    "Mvin_df1 = get_vincularity(df_1,\"time frame 1\",\"Extraction\")\n",
    "Mvin_df2 = get_vincularity(df_2,\"time frame 2\",\"Extraction\")\n",
    "Mvin_df3 = get_vincularity(df_3,\"time frame 3\",\"Extraction\")\n",
    "\n",
    "# Plotting the graph for Vincularity.\n",
    "dataatextraction = ['Time Frame 1','Time Frame 2','Time Frame 3']\n",
    "dataatextraction_data = [Mvin_df1,Mvin_df2,Mvin_df3]\n",
    "\n",
    "plt.plot(dataatextraction,dataatextraction_data)\n",
    "plt.title('Vincularity for Extraction Phase')\n",
    "plt.xlabel('Time Frame')\n",
    "plt.ylabel('Vincularity')\n",
    "plt.show()"
   ]
  },
  {
   "cell_type": "markdown",
   "id": "608c2ce5",
   "metadata": {},
   "source": [
    "# Pre-processing "
   ]
  },
  {
   "cell_type": "code",
   "execution_count": 12,
   "id": "691e16fd",
   "metadata": {},
   "outputs": [],
   "source": [
    "\n",
    "# for pre-processing we are removing the rows having column \"imdb_rating\" as null\n",
    "\n",
    "df_1 = df_1.dropna(axis=0, subset=['imdb_rating'])\n",
    "df_1 = df_1[df_1.imdb_rating != \"Not-Rated\"]\n",
    "\n",
    "df_2 = df_2.dropna(axis=0, subset=['imdb_rating'])\n",
    "df_2 = df_2[df_2.imdb_rating != \"Not-Rated\"]\n",
    "\n",
    "df_3 = df_3.dropna(axis=0, subset=['imdb_rating'])\n",
    "df_3 = df_3[df_3.imdb_rating != \"Not-Rated\"]"
   ]
  },
  {
   "cell_type": "code",
   "execution_count": 13,
   "id": "69d8ca57",
   "metadata": {},
   "outputs": [],
   "source": [
    "# Saving pre-processed files\n",
    "\n",
    "df_1.to_csv(\"pre_processing_df1.csv\")\n",
    "df_2.to_csv(\"pre_processing_df2.csv\")\n",
    "df_3.to_csv(\"pre_processing_df3.csv\")"
   ]
  },
  {
   "cell_type": "code",
   "execution_count": 14,
   "id": "b4416f03",
   "metadata": {},
   "outputs": [
    {
     "name": "stdout",
     "output_type": "stream",
     "text": [
      "\n",
      " ********** Calculating veracity for time frame 1 in Preprocessing phase **********\n",
      "Accuracy for time frame 1 in Preprocessing phase : 0.9999997696838037\n",
      "Completeness for time frame 1 in Preprocessing phase : 0.9732620320855615\n",
      "Currentness for time frame 1 in Preprocessing phase : 1.0\n",
      "Veracity for time frame 1 in Preprocessing phase : 0.991087267256455\n",
      "\n",
      " ********** Calculating veracity for time frame 2 in Preprocessing phase **********\n",
      "Accuracy for time frame 2 in Preprocessing phase : 0.999999868364668\n",
      "Completeness for time frame 2 in Preprocessing phase : 0.7773109243697479\n",
      "Currentness for time frame 2 in Preprocessing phase : 1.0\n",
      "Veracity for time frame 2 in Preprocessing phase : 0.9257702642448051\n",
      "\n",
      " ********** Calculating veracity for time frame 3 in Preprocessing phase **********\n",
      "Accuracy for time frame 3 in Preprocessing phase : 0.9999999231879829\n",
      "Completeness for time frame 3 in Preprocessing phase : 0.5625\n",
      "Currentness for time frame 3 in Preprocessing phase : 1.0\n",
      "Veracity for time frame 3 in Preprocessing phase : 0.8541666410626609\n"
     ]
    },
    {
     "data": {
      "image/png": "[encoded data removed]",
      "text/plain": [
       "<Figure size 432x288 with 1 Axes>"
      ]
     },
     "metadata": {
      "needs_background": "light"
     },
     "output_type": "display_data"
    }
   ],
   "source": [
    "# Calculating veracity of various data frames \n",
    "\n",
    "\n",
    "Mver_df1 = get_veracity(df_1,\"time frame 1\",\"Preprocessing\")\n",
    "Mver_df2 = get_veracity(df_2,\"time frame 2\",\"Preprocessing\")\n",
    "Mver_df3 = get_veracity(df_3,\"time frame 3\",\"Preprocessing\")\n",
    "\n",
    "# Plotting graph for veracity\n",
    "dataatextraction = ['Time Frame 1','Time Frame 2','Time Frame 3']\n",
    "dataatextraction_data = [Mver_df1,Mver_df2,Mver_df3]\n",
    "\n",
    "plt.plot(dataatextraction,dataatextraction_data)\n",
    "plt.title('Veracity for Preprocessing Phase')\n",
    "plt.xlabel('Time Frame')\n",
    "plt.ylabel('Veracity')\n",
    "plt.show()"
   ]
  },
  {
   "cell_type": "code",
   "execution_count": 15,
   "id": "a677b6b5",
   "metadata": {},
   "outputs": [
    {
     "name": "stdout",
     "output_type": "stream",
     "text": [
      "\n",
      " ********** Calculating validity for time frame 1 in Preprocessing phase **********\n",
      "Compliance for time frame 1 in Preprocessing phase : 1.0\n",
      "Credibility for time frame 1 in Preprocessing phase : 1.0\n",
      "Vailidty for time frame 1 in Preprocessing phase : 1.0\n",
      "\n",
      " ********** Calculating validity for time frame 2 in Preprocessing phase **********\n",
      "Compliance for time frame 2 in Preprocessing phase : 1.0\n",
      "Credibility for time frame 2 in Preprocessing phase : 1.0\n",
      "Vailidty for time frame 2 in Preprocessing phase : 1.0\n",
      "\n",
      " ********** Calculating validity for time frame 3 in Preprocessing phase **********\n",
      "Compliance for time frame 3 in Preprocessing phase : 1.0\n",
      "Credibility for time frame 3 in Preprocessing phase : 1.0\n",
      "Vailidty for time frame 3 in Preprocessing phase : 1.0\n"
     ]
    },
    {
     "data": {
      "image/png": "[encoded data removed]",
      "text/plain": [
       "<Figure size 432x288 with 1 Axes>"
      ]
     },
     "metadata": {
      "needs_background": "light"
     },
     "output_type": "display_data"
    }
   ],
   "source": [
    "# Calculating the validity of different time frames\n",
    "\n",
    "Mval_df1 = get_validity(df_1,\"time frame 1\",\"Preprocessing\")\n",
    "Mval_df2 = get_validity(df_2,\"time frame 2\",\"Preprocessing\")\n",
    "Mval_df3 = get_validity(df_3,\"time frame 3\",\"Preprocessing\")\n",
    "\n",
    "# Plotting graph for validity\n",
    "dataatextraction = ['Time Frame 1','Time Frame 2','Time Frame 3']\n",
    "dataatextraction_data = [Mval_df1,Mval_df2,Mval_df3]\n",
    "\n",
    "plt.plot(dataatextraction,dataatextraction_data)\n",
    "plt.title('Validity for Preprocessing Phase')\n",
    "plt.xlabel('Time Frame')\n",
    "plt.ylabel('Validity')\n",
    "plt.show()"
   ]
  },
  {
   "cell_type": "code",
   "execution_count": 16,
   "id": "0cab3a10",
   "metadata": {
    "scrolled": true
   },
   "outputs": [
    {
     "name": "stdout",
     "output_type": "stream",
     "text": [
      "\n",
      " ********** Calculating traceability for time frame 1 in Preprocessing phase **********\n",
      "Traceability for time frame 1 in Preprocessing phase : 1.0\n",
      "Vincularity for time frame 1 in Preprocessing phase : 1.0\n",
      "\n",
      " ********** Calculating traceability for time frame 2 in Preprocessing phase **********\n",
      "Traceability for time frame 2 in Preprocessing phase : 1.0\n",
      "Vincularity for time frame 2 in Preprocessing phase : 1.0\n",
      "\n",
      " ********** Calculating traceability for time frame 3 in Preprocessing phase **********\n",
      "Traceability for time frame 3 in Preprocessing phase : 1.0\n",
      "Vincularity for time frame 3 in Preprocessing phase : 1.0\n"
     ]
    },
    {
     "data": {
      "image/png": "[encoded data removed]",
      "text/plain": [
       "<Figure size 432x288 with 1 Axes>"
      ]
     },
     "metadata": {
      "needs_background": "light"
     },
     "output_type": "display_data"
    }
   ],
   "source": [
    "# Calculating the vincularity of different time frames\n",
    "\n",
    "Mvin_df1 = get_vincularity(df_1,\"time frame 1\",\"Preprocessing\")\n",
    "Mvin_df2 = get_vincularity(df_2,\"time frame 2\",\"Preprocessing\")\n",
    "Mvin_df3 = get_vincularity(df_3,\"time frame 3\",\"Preprocessing\")\n",
    "\n",
    "\n",
    "# plotting graph for vincularity\n",
    "dataatextraction = ['Time Frame 1','Time Frame 2','Time Frame 3']\n",
    "dataatextraction_data = [Mvin_df1,Mvin_df2,Mvin_df3]\n",
    "\n",
    "plt.plot(dataatextraction,dataatextraction_data)\n",
    "plt.title('Vincularity for Preprocessing Phase')\n",
    "plt.xlabel('Time Frame')\n",
    "plt.ylabel('Vincularity')\n",
    "plt.show()"
   ]
  },
  {
   "cell_type": "markdown",
   "id": "e4c6c54e",
   "metadata": {},
   "source": [
    "# Processing"
   ]
  },
  {
   "cell_type": "code",
   "execution_count": 17,
   "id": "d5f953b5",
   "metadata": {},
   "outputs": [],
   "source": [
    "# for Processing we are polluting the runtime with na values with mean and removing rows with runtime as TBA\n",
    "\n",
    "df_1['runtime'] = df_1['runtime'].str.replace(',','')\n",
    "runtime_mean = df_1.dropna(subset=['runtime'])['runtime'].astype(int).mean()\n",
    "df_1['runtime'].fillna(runtime_mean, inplace=True)\n",
    "df_1 = df_1[df_1.release_year != \"TBA\"]\n",
    "\n",
    "\n",
    "df_2['runtime'] = df_2['runtime'].str.replace(',','')\n",
    "runtime_mean = df_2.dropna(subset=['runtime'])['runtime'].astype(int).mean()\n",
    "df_2['runtime'].fillna(runtime_mean, inplace=True)\n",
    "df_2 = df_2[df_2.release_year != \"TBA\"]\n",
    "\n",
    "df_3['runtime'] = df_3['runtime'].str.replace(',','')\n",
    "runtime_mean = df_3.dropna(subset=['runtime'])['runtime'].astype(int).mean()\n",
    "df_3['runtime'].fillna(runtime_mean, inplace=True)\n",
    "df_3 = df_3[df_3.release_year != \"TBA\"]\n",
    "\n",
    "# Saving processed data to files\n",
    "df_1.to_csv(\"processing_df1.csv\")\n",
    "df_2.to_csv(\"processing_df2.csv\")\n",
    "df_3.to_csv(\"processing_df3.csv\")"
   ]
  },
  {
   "cell_type": "code",
   "execution_count": 18,
   "id": "4ed5f086",
   "metadata": {},
   "outputs": [
    {
     "name": "stdout",
     "output_type": "stream",
     "text": [
      "\n",
      " ********** Calculating veracity for time frame 1 in Processing phase **********\n",
      "Accuracy for time frame 1 in Processing phase : 0.999999769319795\n",
      "Completeness for time frame 1 in Processing phase : 0.9893048128342246\n",
      "Currentness for time frame 1 in Processing phase : 1.0\n",
      "Veracity for time frame 1 in Processing phase : 0.9964348607180065\n",
      "\n",
      " ********** Calculating veracity for time frame 2 in Processing phase **********\n",
      "Accuracy for time frame 2 in Processing phase : 0.9999998666065731\n",
      "Completeness for time frame 2 in Processing phase : 0.8445378151260504\n",
      "Currentness for time frame 2 in Processing phase : 1.0\n",
      "Veracity for time frame 2 in Processing phase : 0.9481792272442078\n",
      "\n",
      " ********** Calculating veracity for time frame 3 in Processing phase **********\n",
      "Accuracy for time frame 3 in Processing phase : 0.9999999211723685\n",
      "Completeness for time frame 3 in Processing phase : 0.6493055555555556\n",
      "Currentness for time frame 3 in Processing phase : 1.0\n",
      "Veracity for time frame 3 in Processing phase : 0.8831018255759746\n"
     ]
    },
    {
     "data": {
      "image/png": "[encoded data removed]",
      "text/plain": [
       "<Figure size 432x288 with 1 Axes>"
      ]
     },
     "metadata": {
      "needs_background": "light"
     },
     "output_type": "display_data"
    }
   ],
   "source": [
    "# Calculating veracity for different time frames.\n",
    "\n",
    "Mver_df1 = get_veracity(df_1,\"time frame 1\",\"Processing\")\n",
    "Mver_df2 = get_veracity(df_2,\"time frame 2\",\"Processing\")\n",
    "Mver_df3 = get_veracity(df_3,\"time frame 3\",\"Processing\")\n",
    "\n",
    "# Plotting graph for veracity\n",
    "\n",
    "dataatextraction = ['Time Frame 1','Time Frame 2','Time Frame 3']\n",
    "dataatextraction_data = [Mver_df1,Mver_df2,Mver_df3]\n",
    "\n",
    "plt.plot(dataatextraction,dataatextraction_data)\n",
    "plt.title('Veracity for Processing Phase')\n",
    "plt.xlabel('Time Frame')\n",
    "plt.ylabel('Veracity')\n",
    "plt.show()"
   ]
  },
  {
   "cell_type": "code",
   "execution_count": 19,
   "id": "4d6bd4e2",
   "metadata": {},
   "outputs": [
    {
     "name": "stdout",
     "output_type": "stream",
     "text": [
      "\n",
      " ********** Calculating validity for time frame 1 in Post_processing phase **********\n",
      "Compliance for time frame 1 in Post_processing phase : 1.0\n",
      "Credibility for time frame 1 in Post_processing phase : 1.0\n",
      "Vailidty for time frame 1 in Post_processing phase : 1.0\n",
      "\n",
      " ********** Calculating validity for time frame 2 in Post_processing phase **********\n",
      "Compliance for time frame 2 in Post_processing phase : 1.0\n",
      "Credibility for time frame 2 in Post_processing phase : 1.0\n",
      "Vailidty for time frame 2 in Post_processing phase : 1.0\n",
      "\n",
      " ********** Calculating validity for time frame 3 in Post_processing phase **********\n",
      "Compliance for time frame 3 in Post_processing phase : 1.0\n",
      "Credibility for time frame 3 in Post_processing phase : 1.0\n",
      "Vailidty for time frame 3 in Post_processing phase : 1.0\n"
     ]
    },
    {
     "data": {
      "image/png": "[encoded data removed]",
      "text/plain": [
       "<Figure size 432x288 with 1 Axes>"
      ]
     },
     "metadata": {
      "needs_background": "light"
     },
     "output_type": "display_data"
    }
   ],
   "source": [
    "\n",
    "# Calculating validity for different time frames.\n",
    "\n",
    "Mval_df1 = get_validity(df_1,\"time frame 1\",\"Post_processing\")\n",
    "Mval_df2 = get_validity(df_2,\"time frame 2\",\"Post_processing\")\n",
    "Mval_df3 = get_validity(df_3,\"time frame 3\",\"Post_processing\")\n",
    "\n",
    "# Plotting graph for validity\n",
    "dataatextraction = ['Time Frame 1','Time Frame 2','Time Frame 3']\n",
    "dataatextraction_data = [Mval_df1,Mval_df2,Mval_df3]\n",
    "\n",
    "plt.plot(dataatextraction,dataatextraction_data)\n",
    "plt.title('Validity for Post_processing Phase')\n",
    "plt.xlabel('Time Frame')\n",
    "plt.ylabel('Validity')\n",
    "plt.show()"
   ]
  },
  {
   "cell_type": "code",
   "execution_count": 20,
   "id": "0e5224ff",
   "metadata": {},
   "outputs": [
    {
     "name": "stdout",
     "output_type": "stream",
     "text": [
      "\n",
      " ********** Calculating traceability for time frame 1 in Post_processing phase **********\n",
      "Traceability for time frame 1 in Post_processing phase : 1.0\n",
      "Vincularity for time frame 1 in Post_processing phase : 1.0\n",
      "\n",
      " ********** Calculating traceability for time frame 2 in Post_processing phase **********\n",
      "Traceability for time frame 2 in Post_processing phase : 1.0\n",
      "Vincularity for time frame 2 in Post_processing phase : 1.0\n",
      "\n",
      " ********** Calculating traceability for time frame 3 in Post_processing phase **********\n",
      "Traceability for time frame 3 in Post_processing phase : 1.0\n",
      "Vincularity for time frame 3 in Post_processing phase : 1.0\n"
     ]
    },
    {
     "data": {
      "image/png": "[encoded data removed]",
      "text/plain": [
       "<Figure size 432x288 with 1 Axes>"
      ]
     },
     "metadata": {
      "needs_background": "light"
     },
     "output_type": "display_data"
    }
   ],
   "source": [
    "# Calculating vincularity for different time frames.\n",
    "\n",
    "\n",
    "Mvin_df1 = get_vincularity(df_1,\"time frame 1\",\"Post_processing\")\n",
    "Mvin_df2 = get_vincularity(df_2,\"time frame 2\",\"Post_processing\")\n",
    "Mvin_df3 = get_vincularity(df_3,\"time frame 3\",\"Post_processing\")\n",
    "\n",
    "\n",
    "# Plotting graph for vincularity\n",
    "dataatextraction = ['Time Frame 1','Time Frame 2','Time Frame 3']\n",
    "dataatextraction_data = [Mvin_df1,Mvin_df2,Mvin_df3]\n",
    "\n",
    "plt.plot(dataatextraction,dataatextraction_data)\n",
    "plt.title('Vincularity for Post_processing Phase')\n",
    "plt.xlabel('Time Frame')\n",
    "plt.ylabel('Vincularity')\n",
    "plt.show()"
   ]
  }
 ],
 "metadata": {
  "kernelspec": {
   "display_name": "Python 3 (ipykernel)",
   "language": "python",
   "name": "python3"
  },
  "language_info": {
   "codemirror_mode": {
    "name": "ipython",
    "version": 3
   },
   "file_extension": ".py",
   "mimetype": "text/x-python",
   "name": "python",
   "nbconvert_exporter": "python",
   "pygments_lexer": "ipython3",
   "version": "3.8.2"
  }
 },
 "nbformat": 4,
 "nbformat_minor": 5
}
